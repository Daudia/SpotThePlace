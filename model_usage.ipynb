{
 "cells": [
  {
   "cell_type": "code",
   "execution_count": null,
   "metadata": {},
   "outputs": [],
   "source": [
    "import torch\n",
    "import torch.nn as nn\n",
    "import torch.nn.functional as F\n",
    "from torchvision import models, transforms\n",
    "from huggingface_hub import hf_hub_download\n",
    "from PIL import Image\n",
    "\n",
    "from spottheplace.ml import GradCam\n",
    "from spottheplace.ml.utils import AddMask\n",
    "\n",
    "MODEL_PATH = hf_hub_download(\n",
    "    repo_id=\"titouanlegourrierec/SpotThePlace\",\n",
    "    filename=\"Classification_ResNet_4countries.pth\"\n",
    "    ) # Path to the model (downloaded from Hugging Face Hub)\n",
    "\n",
    "IMAGE_PATH = \"\" # Path to the image"
   ]
  },
  {
   "cell_type": "code",
   "execution_count": null,
   "metadata": {},
   "outputs": [],
   "source": [
    "# Define the model and load the weights\n",
    "model = models.resnet50()\n",
    "model.fc = nn.Linear(model.fc.in_features, 4) # 4 countries\n",
    "model.load_state_dict(torch.load(MODEL_PATH, map_location=torch.device('cpu'), weights_only=False))\n",
    "model.eval()\n",
    "class_labels = {0: 'France', 1: 'Japan', 2: 'Mexico', 3: 'South Africa'} # Define the class labels\n",
    "\n",
    "# Load the image and apply the transformations\n",
    "image = Image.open(IMAGE_PATH).convert('RGB')\n",
    "transform = transforms.Compose([\n",
    "    transforms.Resize((224, 224)),\n",
    "    AddMask(),\n",
    "    transforms.ToTensor(),\n",
    "    transforms.Normalize(mean=[0.485, 0.456, 0.406], std=[0.229, 0.224, 0.225])\n",
    "])\n",
    "input_tensor = transform(image).unsqueeze(0)\n",
    "\n",
    "# Predict the class of the image\n",
    "output = model(input_tensor)\n",
    "class_idx = output.argmax(dim=1).item()\n",
    "\n",
    "# Print the predicted class\n",
    "output_class = class_labels[class_idx]\n",
    "print(\"Predicted class:\", output_class)\n",
    "\n",
    "# Print the probability of the predicted class\n",
    "output_probs = F.softmax(output, dim=1).detach().numpy().squeeze()\n",
    "print(f\"Probability of the predicted class: {output_probs[class_idx]:.3f}\")\n",
    "print(f\"Probability of each class: {[round(prob, 3) for prob in output_probs]}\")"
   ]
  },
  {
   "cell_type": "code",
   "execution_count": null,
   "metadata": {},
   "outputs": [],
   "source": [
    "# Generate the Grad-CAM\n",
    "grad_cam = GradCam(MODEL_PATH)\n",
    "grad_cam.explain(IMAGE_PATH)"
   ]
  }
 ],
 "metadata": {
  "kernelspec": {
   "display_name": "env",
   "language": "python",
   "name": "python3"
  },
  "language_info": {
   "codemirror_mode": {
    "name": "ipython",
    "version": 3
   },
   "file_extension": ".py",
   "mimetype": "text/x-python",
   "name": "python",
   "nbconvert_exporter": "python",
   "pygments_lexer": "ipython3",
   "version": "3.11.8"
  }
 },
 "nbformat": 4,
 "nbformat_minor": 2
}
