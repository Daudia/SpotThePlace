{
 "cells": [
  {
   "cell_type": "code",
   "execution_count": null,
   "metadata": {},
   "outputs": [],
   "source": [
    "import torch\n",
    "import torch.nn as nn\n",
    "import torch.nn.functional as F\n",
    "from torchvision import models, transforms\n",
    "from huggingface_hub import hf_hub_download\n",
    "from PIL import Image\n",
    "from transformers import ViTForImageClassification, ViTImageProcessor\n",
    "\n",
    "from spottheplace.ml import GradCam\n",
    "from spottheplace.ml.utils import AddMask"
   ]
  },
  {
   "cell_type": "markdown",
   "metadata": {},
   "source": [
    "# Classification Task"
   ]
  },
  {
   "cell_type": "markdown",
   "metadata": {},
   "source": [
    "## Example usage for ResNet model"
   ]
  },
  {
   "cell_type": "code",
   "execution_count": null,
   "metadata": {},
   "outputs": [],
   "source": [
    "# ResNet50 model for image classification\n",
    "MODEL_PATH = hf_hub_download(\n",
    "    repo_id=\"titouanlegourrierec/SpotThePlace\",\n",
    "    filename=\"Classification_ResNet50_4countries.pth\"\n",
    "    )\n",
    "\n",
    "IMAGE_PATH = \"\" # Path to the image\n",
    "\n",
    "# Define the model and load the weights\n",
    "model = models.resnet50()\n",
    "model.fc = nn.Linear(model.fc.in_features, 4) # 4 countries\n",
    "model.load_state_dict(torch.load(MODEL_PATH, map_location=torch.device('cpu'), weights_only=False))\n",
    "model.eval()\n",
    "class_labels = {0: 'France', 1: 'Japan', 2: 'Mexico', 3: 'South Africa'} # Define the class labels\n",
    "\n",
    "# Load the image and apply the transformations\n",
    "image = Image.open(IMAGE_PATH).convert('RGB')\n",
    "transform = transforms.Compose([\n",
    "    transforms.Resize((224, 224)),\n",
    "    AddMask(),\n",
    "    transforms.ToTensor(),\n",
    "    transforms.Normalize(mean=[0.485, 0.456, 0.406], std=[0.229, 0.224, 0.225])\n",
    "])\n",
    "input_tensor = transform(image).unsqueeze(0)\n",
    "\n",
    "# Predict the class of the image\n",
    "with torch.no_grad():\n",
    "    output = model(input_tensor)\n",
    "class_idx = output.argmax(dim=1).item()\n",
    "\n",
    "# Print the predicted class\n",
    "output_class = class_labels[class_idx]\n",
    "print(\"Predicted class:\", output_class)\n",
    "\n",
    "# Print the probability of the predicted class\n",
    "output_probs = F.softmax(output, dim=1).detach().numpy().squeeze()\n",
    "print(f\"Probability of the predicted class: {output_probs[class_idx]:.3f}\")\n",
    "print(f\"Probability of each class: {[round(prob, 3) for prob in output_probs]}\")"
   ]
  },
  {
   "cell_type": "code",
   "execution_count": null,
   "metadata": {},
   "outputs": [],
   "source": [
    "# Generate the Grad-CAM\n",
    "grad_cam = GradCam(MODEL_PATH)\n",
    "grad_cam.explain(IMAGE_PATH)"
   ]
  },
  {
   "cell_type": "markdown",
   "metadata": {},
   "source": [
    "## Example Usage for ViT model"
   ]
  },
  {
   "cell_type": "code",
   "execution_count": null,
   "metadata": {},
   "outputs": [],
   "source": [
    "# ViT model for image classification\n",
    "MODEL_PATH = hf_hub_download(\n",
    "    repo_id=\"titouanlegourrierec/SpotThePlace\",\n",
    "    filename=\"Classification_ViT_4countries.pth\"\n",
    "    )\n",
    "\n",
    "IMAGE_PATH = \"\" # Path to the image\n",
    "\n",
    "# Define the model and load the weights\n",
    "model = ViTForImageClassification.from_pretrained('google/vit-base-patch16-224-in21k', num_labels=4)\n",
    "model.load_state_dict(torch.load(MODEL_PATH, map_location=torch.device('cpu'), weights_only=False))\n",
    "model.eval()\n",
    "class_labels = {0: 'France', 1: 'Japan', 2: 'Mexico', 3: 'South Africa'} # Define the class labels\n",
    "\n",
    "# Load the image and apply the transformations\n",
    "image = Image.open(IMAGE_PATH).convert('RGB')\n",
    "processor = ViTImageProcessor.from_pretrained('google/vit-base-patch16-224-in21k')\n",
    "inputs = processor(images=image, return_tensors=\"pt\")\n",
    "input_tensor = inputs['pixel_values']\n",
    "\n",
    "# Predict the class of the image\n",
    "with torch.no_grad():\n",
    "    output = model(input_tensor)\n",
    "class_idx = output.logits.argmax(dim=1).item()\n",
    "\n",
    "# Print the predicted class\n",
    "output_class = class_labels[class_idx]\n",
    "print(\"Predicted class:\", output_class)\n",
    "\n",
    "# Print the probability of the predicted class\n",
    "output_probs = F.softmax(output.logits, dim=1).detach().numpy().squeeze()\n",
    "print(f\"Probability of the predicted class: {output_probs[class_idx]:.3f}\")\n",
    "print(f\"Probability of each class: {[round(prob, 3) for prob in output_probs]}\")"
   ]
  },
  {
   "cell_type": "markdown",
   "metadata": {},
   "source": [
    "# Regression Task"
   ]
  },
  {
   "cell_type": "code",
   "execution_count": null,
   "metadata": {},
   "outputs": [],
   "source": [
    "# ResNet50 model for image regression\n",
    "MODEL_PATH = hf_hub_download(\n",
    "    repo_id=\"titouanlegourrierec/SpotThePlace\",\n",
    "    filename=\"Regression_ResNet50_4countries.pth\"\n",
    "    )\n",
    "\n",
    "IMAGE_PATH = \"\" # Path to the image\n",
    "\n",
    "# Define the model and load the weights\n",
    "model = models.resnet50()\n",
    "model.fc = nn.Linear(model.fc.in_features, 2) # 4 countries\n",
    "model.load_state_dict(torch.load(MODEL_PATH, map_location=torch.device('cpu'), weights_only=False))\n",
    "model.eval()\n",
    "\n",
    "# Load the image and apply the transformations\n",
    "image = Image.open(IMAGE_PATH).convert('RGB')\n",
    "transform = transforms.Compose([\n",
    "    transforms.Resize((224, 224)),\n",
    "    AddMask(),\n",
    "    transforms.ToTensor(),\n",
    "    transforms.Normalize(mean=[0.485, 0.456, 0.406], std=[0.229, 0.224, 0.225])\n",
    "])\n",
    "input_tensor = transform(image).unsqueeze(0)\n",
    "\n",
    "# Predict the longitude and latitude of the image\n",
    "with torch.no_grad():\n",
    "    output = model(input_tensor)\n",
    "\n",
    "print(\"Predicted longitude:\", output[0][0].item())\n",
    "print(\"Predicted latitude:\", output[0][1].item())"
   ]
  }
 ],
 "metadata": {
  "kernelspec": {
   "display_name": "env",
   "language": "python",
   "name": "python3"
  },
  "language_info": {
   "codemirror_mode": {
    "name": "ipython",
    "version": 3
   },
   "file_extension": ".py",
   "mimetype": "text/x-python",
   "name": "python",
   "nbconvert_exporter": "python",
   "pygments_lexer": "ipython3",
   "version": "3.11.8"
  }
 },
 "nbformat": 4,
 "nbformat_minor": 2
}
