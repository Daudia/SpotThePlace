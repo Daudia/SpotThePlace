{
 "cells": [
  {
   "cell_type": "markdown",
   "metadata": {},
   "source": [
    "## Get streetview image of a specific location"
   ]
  },
  {
   "cell_type": "code",
   "execution_count": null,
   "metadata": {},
   "outputs": [],
   "source": [
    "# This is an example of how to use the StreetViewScraper class\n",
    "from spottheplace import StreetViewScraper\n",
    "\n",
    "scraper = StreetViewScraper(headless=False)\n",
    "scraper.get_streetview_from_coordinates(long=2.333333, lat=48.866667)"
   ]
  },
  {
   "cell_type": "markdown",
   "metadata": {},
   "source": [
    "---\n",
    "## Get streetview images from a dataframe"
   ]
  },
  {
   "cell_type": "code",
   "execution_count": null,
   "metadata": {},
   "outputs": [
    {
     "data": {
      "image/png": "[encoded data removed]",
      "text/plain": [
       "<Figure size 640x480 with 1 Axes>"
      ]
     },
     "metadata": {},
     "output_type": "display_data"
    },
    {
     "data": {
      "text/html": [
       "<div>\n",
       "<style scoped>\n",
       "    .dataframe tbody tr th:only-of-type {\n",
       "        vertical-align: middle;\n",
       "    }\n",
       "\n",
       "    .dataframe tbody tr th {\n",
       "        vertical-align: top;\n",
       "    }\n",
       "\n",
       "    .dataframe thead th {\n",
       "        text-align: right;\n",
       "    }\n",
       "</style>\n",
       "<table border=\"1\" class=\"dataframe\">\n",
       "  <thead>\n",
       "    <tr style=\"text-align: right;\">\n",
       "      <th></th>\n",
       "      <th>geometry</th>\n",
       "      <th>id</th>\n",
       "      <th>long</th>\n",
       "      <th>lat</th>\n",
       "      <th>country</th>\n",
       "    </tr>\n",
       "  </thead>\n",
       "  <tbody>\n",
       "    <tr>\n",
       "      <th>0</th>\n",
       "      <td>POINT (6.24528 50.37714)</td>\n",
       "      <td>1</td>\n",
       "      <td>6.245280</td>\n",
       "      <td>50.377135</td>\n",
       "      <td>Belgium</td>\n",
       "    </tr>\n",
       "    <tr>\n",
       "      <th>1</th>\n",
       "      <td>POINT (6.14055 50.66027)</td>\n",
       "      <td>2</td>\n",
       "      <td>6.140545</td>\n",
       "      <td>50.660269</td>\n",
       "      <td>Belgium</td>\n",
       "    </tr>\n",
       "  </tbody>\n",
       "</table>\n",
       "</div>"
      ],
      "text/plain": [
       "                   geometry  id      long        lat  country\n",
       "0  POINT (6.24528 50.37714)   1  6.245280  50.377135  Belgium\n",
       "1  POINT (6.14055 50.66027)   2  6.140545  50.660269  Belgium"
      ]
     },
     "execution_count": 2,
     "metadata": {},
     "output_type": "execute_result"
    }
   ],
   "source": [
    "# This is an example of how to use the RandomPointGenerator class\n",
    "from spottheplace import RandomPointGenerator\n",
    "\n",
    "generator = RandomPointGenerator()\n",
    "country_points = generator.generate_points_in_country(\"Belgium\", 2)\n",
    "\n",
    "country_points.head()"
   ]
  },
  {
   "cell_type": "code",
   "execution_count": null,
   "metadata": {},
   "outputs": [
    {
     "name": "stderr",
     "output_type": "stream",
     "text": [
      "Fetching image URLs: 100%|██████████| 2/2 [00:23<00:00, 11.66s/it]\n",
      "Fetching streetview images: 100%|██████████| 2/2 [00:38<00:00, 19.14s/it]\n"
     ]
    },
    {
     "data": {
      "text/html": [
       "<div>\n",
       "<style scoped>\n",
       "    .dataframe tbody tr th:only-of-type {\n",
       "        vertical-align: middle;\n",
       "    }\n",
       "\n",
       "    .dataframe tbody tr th {\n",
       "        vertical-align: top;\n",
       "    }\n",
       "\n",
       "    .dataframe thead th {\n",
       "        text-align: right;\n",
       "    }\n",
       "</style>\n",
       "<table border=\"1\" class=\"dataframe\">\n",
       "  <thead>\n",
       "    <tr style=\"text-align: right;\">\n",
       "      <th></th>\n",
       "      <th>geometry</th>\n",
       "      <th>id</th>\n",
       "      <th>long</th>\n",
       "      <th>lat</th>\n",
       "      <th>country</th>\n",
       "      <th>url</th>\n",
       "      <th>image_name</th>\n",
       "    </tr>\n",
       "  </thead>\n",
       "  <tbody>\n",
       "    <tr>\n",
       "      <th>0</th>\n",
       "      <td>POINT (6.24528 50.37714)</td>\n",
       "      <td>1</td>\n",
       "      <td>6.245280</td>\n",
       "      <td>50.377135</td>\n",
       "      <td>Belgium</td>\n",
       "      <td>https://www.google.com/maps/@50.3609714,6.2162...</td>\n",
       "      <td>Belgium_6.245279876595792_50.37713533919973</td>\n",
       "    </tr>\n",
       "    <tr>\n",
       "      <th>1</th>\n",
       "      <td>POINT (6.14055 50.66027)</td>\n",
       "      <td>2</td>\n",
       "      <td>6.140545</td>\n",
       "      <td>50.660269</td>\n",
       "      <td>Belgium</td>\n",
       "      <td>https://www.google.com/maps/@50.6684346,6.1147...</td>\n",
       "      <td>Belgium_6.140545319111457_50.660268877481364</td>\n",
       "    </tr>\n",
       "  </tbody>\n",
       "</table>\n",
       "</div>"
      ],
      "text/plain": [
       "                   geometry  id      long        lat  country  \\\n",
       "0  POINT (6.24528 50.37714)   1  6.245280  50.377135  Belgium   \n",
       "1  POINT (6.14055 50.66027)   2  6.140545  50.660269  Belgium   \n",
       "\n",
       "                                                 url  \\\n",
       "0  https://www.google.com/maps/@50.3609714,6.2162...   \n",
       "1  https://www.google.com/maps/@50.6684346,6.1147...   \n",
       "\n",
       "                                     image_name  \n",
       "0   Belgium_6.245279876595792_50.37713533919973  \n",
       "1  Belgium_6.140545319111457_50.660268877481364  "
      ]
     },
     "execution_count": 3,
     "metadata": {},
     "output_type": "execute_result"
    }
   ],
   "source": [
    "# This is an example of how to use the StreetViewScraper class with a dataframe\n",
    "from spottheplace import StreetViewScraper\n",
    "\n",
    "scraper = StreetViewScraper(headless=False)\n",
    "country_points = scraper.get_streetview_from_dataframe(country_points)\n",
    "country_points.head()"
   ]
  }
 ],
 "metadata": {
  "kernelspec": {
   "display_name": "env",
   "language": "python",
   "name": "python3"
  },
  "language_info": {
   "codemirror_mode": {
    "name": "ipython",
    "version": 3
   },
   "file_extension": ".py",
   "mimetype": "text/x-python",
   "name": "python",
   "nbconvert_exporter": "python",
   "pygments_lexer": "ipython3",
   "version": "3.11.8"
  }
 },
 "nbformat": 4,
 "nbformat_minor": 2
}
